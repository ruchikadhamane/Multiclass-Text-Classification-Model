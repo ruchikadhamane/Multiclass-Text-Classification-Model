{
 "cells": [
  {
   "cell_type": "code",
   "execution_count": 2,
   "metadata": {
    "scrolled": true
   },
   "outputs": [
    {
     "data": {
      "text/html": [
       "<div>\n",
       "<style scoped>\n",
       "    .dataframe tbody tr th:only-of-type {\n",
       "        vertical-align: middle;\n",
       "    }\n",
       "\n",
       "    .dataframe tbody tr th {\n",
       "        vertical-align: top;\n",
       "    }\n",
       "\n",
       "    .dataframe thead th {\n",
       "        text-align: right;\n",
       "    }\n",
       "</style>\n",
       "<table border=\"1\" class=\"dataframe\">\n",
       "  <thead>\n",
       "    <tr style=\"text-align: right;\">\n",
       "      <th></th>\n",
       "      <th>Partner ID</th>\n",
       "      <th>Response</th>\n",
       "      <th>L1</th>\n",
       "    </tr>\n",
       "  </thead>\n",
       "  <tbody>\n",
       "    <tr>\n",
       "      <th>0</th>\n",
       "      <td>629694</td>\n",
       "      <td>the portal is very slow</td>\n",
       "      <td>Errors / Glitches</td>\n",
       "    </tr>\n",
       "    <tr>\n",
       "      <th>1</th>\n",
       "      <td>635501</td>\n",
       "      <td>\"System runs very slow, not always accurate\"</td>\n",
       "      <td>Errors / Glitches</td>\n",
       "    </tr>\n",
       "    <tr>\n",
       "      <th>2</th>\n",
       "      <td>10000000172</td>\n",
       "      <td>The website does not function well and freezes...</td>\n",
       "      <td>Errors / Glitches</td>\n",
       "    </tr>\n",
       "    <tr>\n",
       "      <th>3</th>\n",
       "      <td>10000000195</td>\n",
       "      <td>\"The delivery metrics are very delayed,</td>\n",
       "      <td>Policy</td>\n",
       "    </tr>\n",
       "    <tr>\n",
       "      <th>4</th>\n",
       "      <td>10000000195</td>\n",
       "      <td>you can not delete SKU's</td>\n",
       "      <td>Item &amp; Inventory Management</td>\n",
       "    </tr>\n",
       "  </tbody>\n",
       "</table>\n",
       "</div>"
      ],
      "text/plain": [
       "    Partner ID                                           Response  \\\n",
       "0       629694                            the portal is very slow   \n",
       "1       635501       \"System runs very slow, not always accurate\"   \n",
       "2  10000000172  The website does not function well and freezes...   \n",
       "3  10000000195           \"The delivery metrics are very delayed,    \n",
       "4  10000000195                           you can not delete SKU's   \n",
       "\n",
       "                            L1  \n",
       "0            Errors / Glitches  \n",
       "1            Errors / Glitches  \n",
       "2            Errors / Glitches  \n",
       "3                       Policy  \n",
       "4  Item & Inventory Management  "
      ]
     },
     "execution_count": 2,
     "metadata": {},
     "output_type": "execute_result"
    }
   ],
   "source": [
    "import pandas as pd\n",
    "df= pd.read_excel(r'F:/PGDM-RBA/Summer Internship/Seller Center_CodeframeL1.xlsx')\n",
    "df.head()"
   ]
  },
  {
   "cell_type": "code",
   "execution_count": 3,
   "metadata": {},
   "outputs": [
    {
     "data": {
      "text/plain": [
       "(3619, 3)"
      ]
     },
     "execution_count": 3,
     "metadata": {},
     "output_type": "execute_result"
    }
   ],
   "source": [
    "df.shape"
   ]
  },
  {
   "cell_type": "code",
   "execution_count": 4,
   "metadata": {},
   "outputs": [],
   "source": [
    "df['category_id'] = df['L1'].factorize()[0]\n",
    "from io import StringIO\n",
    "category_id_df = df[['L1', 'category_id']].drop_duplicates().sort_values('category_id')\n",
    "category_to_id = dict(category_id_df.values)\n",
    "id_to_category = dict(category_id_df[['category_id', 'L1']].values)"
   ]
  },
  {
   "cell_type": "code",
   "execution_count": 5,
   "metadata": {},
   "outputs": [
    {
     "data": {
      "text/html": [
       "<div>\n",
       "<style scoped>\n",
       "    .dataframe tbody tr th:only-of-type {\n",
       "        vertical-align: middle;\n",
       "    }\n",
       "\n",
       "    .dataframe tbody tr th {\n",
       "        vertical-align: top;\n",
       "    }\n",
       "\n",
       "    .dataframe thead th {\n",
       "        text-align: right;\n",
       "    }\n",
       "</style>\n",
       "<table border=\"1\" class=\"dataframe\">\n",
       "  <thead>\n",
       "    <tr style=\"text-align: right;\">\n",
       "      <th></th>\n",
       "      <th>Partner ID</th>\n",
       "      <th>Response</th>\n",
       "      <th>L1</th>\n",
       "      <th>category_id</th>\n",
       "    </tr>\n",
       "  </thead>\n",
       "  <tbody>\n",
       "    <tr>\n",
       "      <th>0</th>\n",
       "      <td>629694</td>\n",
       "      <td>the portal is very slow</td>\n",
       "      <td>Errors / Glitches</td>\n",
       "      <td>0</td>\n",
       "    </tr>\n",
       "    <tr>\n",
       "      <th>1</th>\n",
       "      <td>635501</td>\n",
       "      <td>\"System runs very slow, not always accurate\"</td>\n",
       "      <td>Errors / Glitches</td>\n",
       "      <td>0</td>\n",
       "    </tr>\n",
       "    <tr>\n",
       "      <th>2</th>\n",
       "      <td>10000000172</td>\n",
       "      <td>The website does not function well and freezes...</td>\n",
       "      <td>Errors / Glitches</td>\n",
       "      <td>0</td>\n",
       "    </tr>\n",
       "    <tr>\n",
       "      <th>3</th>\n",
       "      <td>10000000195</td>\n",
       "      <td>\"The delivery metrics are very delayed,</td>\n",
       "      <td>Policy</td>\n",
       "      <td>1</td>\n",
       "    </tr>\n",
       "    <tr>\n",
       "      <th>4</th>\n",
       "      <td>10000000195</td>\n",
       "      <td>you can not delete SKU's</td>\n",
       "      <td>Item &amp; Inventory Management</td>\n",
       "      <td>2</td>\n",
       "    </tr>\n",
       "    <tr>\n",
       "      <th>5</th>\n",
       "      <td>10000000195</td>\n",
       "      <td>and the refund process and information is hard...</td>\n",
       "      <td>Policy</td>\n",
       "      <td>1</td>\n",
       "    </tr>\n",
       "    <tr>\n",
       "      <th>6</th>\n",
       "      <td>10000000243</td>\n",
       "      <td>Some features are not available</td>\n",
       "      <td>Usability</td>\n",
       "      <td>3</td>\n",
       "    </tr>\n",
       "    <tr>\n",
       "      <th>7</th>\n",
       "      <td>10000000280</td>\n",
       "      <td>good website to shop from\\n</td>\n",
       "      <td>Usability</td>\n",
       "      <td>3</td>\n",
       "    </tr>\n",
       "    <tr>\n",
       "      <th>8</th>\n",
       "      <td>10000000316</td>\n",
       "      <td>\"too hard to navigate at product level.</td>\n",
       "      <td>Usability</td>\n",
       "      <td>3</td>\n",
       "    </tr>\n",
       "    <tr>\n",
       "      <th>9</th>\n",
       "      <td>10000000316</td>\n",
       "      <td>have to switch from sellerfulfilled to WFS and...</td>\n",
       "      <td>Order Management &amp; Shipping</td>\n",
       "      <td>4</td>\n",
       "    </tr>\n",
       "  </tbody>\n",
       "</table>\n",
       "</div>"
      ],
      "text/plain": [
       "    Partner ID                                           Response  \\\n",
       "0       629694                            the portal is very slow   \n",
       "1       635501       \"System runs very slow, not always accurate\"   \n",
       "2  10000000172  The website does not function well and freezes...   \n",
       "3  10000000195           \"The delivery metrics are very delayed,    \n",
       "4  10000000195                           you can not delete SKU's   \n",
       "5  10000000195  and the refund process and information is hard...   \n",
       "6  10000000243                   Some features are not available    \n",
       "7  10000000280                        good website to shop from\\n   \n",
       "8  10000000316         \"too hard to navigate at product level.      \n",
       "9  10000000316  have to switch from sellerfulfilled to WFS and...   \n",
       "\n",
       "                            L1  category_id  \n",
       "0            Errors / Glitches            0  \n",
       "1            Errors / Glitches            0  \n",
       "2            Errors / Glitches            0  \n",
       "3                       Policy            1  \n",
       "4  Item & Inventory Management            2  \n",
       "5                       Policy            1  \n",
       "6                    Usability            3  \n",
       "7                    Usability            3  \n",
       "8                    Usability            3  \n",
       "9  Order Management & Shipping            4  "
      ]
     },
     "execution_count": 5,
     "metadata": {},
     "output_type": "execute_result"
    }
   ],
   "source": [
    "df.head(10)"
   ]
  },
  {
   "cell_type": "code",
   "execution_count": 6,
   "metadata": {},
   "outputs": [
    {
     "data": {
      "text/plain": [
       "(3619, 4)"
      ]
     },
     "execution_count": 6,
     "metadata": {},
     "output_type": "execute_result"
    }
   ],
   "source": [
    "df.shape"
   ]
  },
  {
   "cell_type": "code",
   "execution_count": 7,
   "metadata": {},
   "outputs": [
    {
     "data": {
      "image/png": "[encoded data removed]",
      "text/plain": [
       "<Figure size 576x432 with 1 Axes>"
      ]
     },
     "metadata": {
      "needs_background": "light"
     },
     "output_type": "display_data"
    }
   ],
   "source": [
    "import matplotlib.pyplot as plt\n",
    "fig = plt.figure(figsize=(8,6))\n",
    "df.groupby('L1').Response.count().plot.bar(ylim=0)\n",
    "plt.show()"
   ]
  },
  {
   "cell_type": "code",
   "execution_count": 8,
   "metadata": {},
   "outputs": [
    {
     "data": {
      "text/plain": [
       "(3619, 912)"
      ]
     },
     "execution_count": 8,
     "metadata": {},
     "output_type": "execute_result"
    }
   ],
   "source": [
    "from sklearn.feature_extraction.text import TfidfVectorizer\n",
    "tfidf = TfidfVectorizer(sublinear_tf=True, min_df=5, norm='l2', encoding='latin-1', ngram_range=(1, 2), stop_words='english')\n",
    "\n",
    "features = tfidf.fit_transform(df.Response).toarray()\n",
    "labels = df.category_id\n",
    "features.shape"
   ]
  },
  {
   "cell_type": "code",
   "execution_count": 9,
   "metadata": {},
   "outputs": [
    {
     "name": "stdout",
     "output_type": "stream",
     "text": [
      "# 'Application & Onboarding':\n",
      "  . Most correlated unigrams:\n",
      "       . onboarding\n",
      "       . account\n",
      "  . Most correlated bigrams:\n",
      "       . difficult set\n",
      "       . seller account\n",
      "# 'Errors / Glitches':\n",
      "  . Most correlated unigrams:\n",
      "       . glitches\n",
      "       . bugs\n",
      "  . Most correlated bigrams:\n",
      "       . needs work\n",
      "       . lot bugs\n",
      "# 'Item & Inventory Management':\n",
      "  . Most correlated unigrams:\n",
      "       . delete\n",
      "       . inventory\n",
      "  . Most correlated bigrams:\n",
      "       . inventory updates\n",
      "       . update inventory\n",
      "# 'Order Management & Shipping':\n",
      "  . Most correlated unigrams:\n",
      "       . shipping\n",
      "       . app\n",
      "  . Most correlated bigrams:\n",
      "       . integrated shipping\n",
      "       . seller app\n",
      "# 'Others':\n",
      "  . Most correlated unigrams:\n",
      "       . forced\n",
      "       . started\n",
      "  . Most correlated bigrams:\n",
      "       . 3rd party\n",
      "       . just started\n",
      "# 'Policy':\n",
      "  . Most correlated unigrams:\n",
      "       . returns\n",
      "       . return\n",
      "  . Most correlated bigrams:\n",
      "       . return policy\n",
      "       . buy box\n",
      "# 'Product Listing':\n",
      "  . Most correlated unigrams:\n",
      "       . listings\n",
      "       . listing\n",
      "  . Most correlated bigrams:\n",
      "       . list products\n",
      "       . list items\n",
      "# 'Product listing':\n",
      "  . Most correlated unigrams:\n",
      "       . upload\n",
      "       . bulk\n",
      "  . Most correlated bigrams:\n",
      "       . list item\n",
      "       . does update\n",
      "# 'Sales':\n",
      "  . Most correlated unigrams:\n",
      "       . advertising\n",
      "       . sales\n",
      "  . Most correlated bigrams:\n",
      "       . easy way\n",
      "       . opportunity sell\n",
      "# 'Support':\n",
      "  . Most correlated unigrams:\n",
      "       . service\n",
      "       . support\n",
      "  . Most correlated bigrams:\n",
      "       . seller support\n",
      "       . customer service\n",
      "# 'System/Integration issues':\n",
      "  . Most correlated unigrams:\n",
      "       . backend\n",
      "       . api\n",
      "  . Most correlated bigrams:\n",
      "       . great marketplace\n",
      "       . technical issues\n",
      "# 'Usability':\n",
      "  . Most correlated unigrams:\n",
      "       . use\n",
      "       . easy\n",
      "  . Most correlated bigrams:\n",
      "       . user friendly\n",
      "       . easy use\n"
     ]
    }
   ],
   "source": [
    "from sklearn.feature_selection import chi2\n",
    "import numpy as np\n",
    "\n",
    "N = 2\n",
    "for L1, category_id in sorted(category_to_id.items()):\n",
    "    features_chi2 = chi2(features, labels == category_id)\n",
    "    indices = np.argsort(features_chi2[0])\n",
    "    feature_names = np.array(tfidf.get_feature_names())[indices]\n",
    "    unigrams = [v for v in feature_names if len(v.split(' ')) == 1]\n",
    "    bigrams = [v for v in feature_names if len(v.split(' ')) == 2]\n",
    "    print(\"# '{}':\".format(L1))\n",
    "    print(\"  . Most correlated unigrams:\\n       . {}\".format('\\n       . '.join(unigrams[-N:])))\n",
    "    print(\"  . Most correlated bigrams:\\n       . {}\".format('\\n       . '.join(bigrams[-N:])))"
   ]
  },
  {
   "cell_type": "code",
   "execution_count": 10,
   "metadata": {},
   "outputs": [],
   "source": [
    "from sklearn.model_selection import train_test_split\n",
    "from sklearn.feature_extraction.text import CountVectorizer\n",
    "from sklearn.feature_extraction.text import TfidfTransformer\n",
    "from sklearn.naive_bayes import MultinomialNB"
   ]
  },
  {
   "cell_type": "code",
   "execution_count": 11,
   "metadata": {},
   "outputs": [],
   "source": [
    "X_train, X_test, y_train, y_test = train_test_split(df['Response'], df['L1'], random_state = 0)\n",
    "count_vect = CountVectorizer()\n",
    "X_train_counts = count_vect.fit_transform(X_train)\n",
    "tfidf_transformer = TfidfTransformer()\n",
    "X_train_tfidf = tfidf_transformer.fit_transform(X_train_counts)\n",
    "\n",
    "clf = MultinomialNB().fit(X_train_tfidf, y_train)"
   ]
  },
  {
   "cell_type": "code",
   "execution_count": 12,
   "metadata": {},
   "outputs": [
    {
     "name": "stdout",
     "output_type": "stream",
     "text": [
      "['Support']\n"
     ]
    }
   ],
   "source": [
    "print(clf.predict(count_vect.transform([\"Poor seller support\"])))"
   ]
  },
  {
   "cell_type": "code",
   "execution_count": 13,
   "metadata": {},
   "outputs": [
    {
     "name": "stdout",
     "output_type": "stream",
     "text": [
      "['Usability']\n"
     ]
    }
   ],
   "source": [
    "print(clf.predict(count_vect.transform([\"System runs very slow, not always accurate\"])))"
   ]
  },
  {
   "cell_type": "code",
   "execution_count": 14,
   "metadata": {},
   "outputs": [],
   "source": [
    "from sklearn.linear_model import LogisticRegression\n",
    "from sklearn.ensemble import RandomForestClassifier\n",
    "from sklearn.naive_bayes import MultinomialNB\n",
    "from sklearn.svm import LinearSVC\n",
    "\n",
    "from sklearn.model_selection import cross_val_score"
   ]
  },
  {
   "cell_type": "code",
   "execution_count": 15,
   "metadata": {},
   "outputs": [],
   "source": [
    "models = [\n",
    "    RandomForestClassifier(n_estimators=200, max_depth=3, random_state=0),\n",
    "    LinearSVC(),\n",
    "    MultinomialNB(),\n",
    "    LogisticRegression(random_state=0),\n",
    "]\n",
    "CV = 5\n",
    "cv_df = pd.DataFrame(index=range(CV * len(models)))\n",
    "entries = []\n",
    "for model in models:\n",
    "  model_name = model.__class__.__name__\n",
    "  accuracies = cross_val_score(model, features, labels, scoring='accuracy', cv=CV)\n",
    "  for fold_idx, accuracy in enumerate(accuracies):\n",
    "    entries.append((model_name, fold_idx, accuracy))\n",
    "cv_df = pd.DataFrame(entries, columns=['model_name', 'fold_idx', 'accuracy'])"
   ]
  },
  {
   "cell_type": "code",
   "execution_count": 16,
   "metadata": {},
   "outputs": [
    {
     "data": {
      "image/png": "[encoded data removed]",
      "text/plain": [
       "<Figure size 432x288 with 1 Axes>"
      ]
     },
     "metadata": {
      "needs_background": "light"
     },
     "output_type": "display_data"
    }
   ],
   "source": [
    "import seaborn as sns\n",
    "\n",
    "sns.boxplot(x='model_name', y='accuracy', data=cv_df)\n",
    "sns.stripplot(x='model_name', y='accuracy', data=cv_df, \n",
    "              size=8, jitter=True, edgecolor=\"gray\", linewidth=2)\n",
    "plt.show()"
   ]
  },
  {
   "cell_type": "code",
   "execution_count": 17,
   "metadata": {},
   "outputs": [
    {
     "data": {
      "text/plain": [
       "model_name\n",
       "LinearSVC                 0.743575\n",
       "LogisticRegression        0.728929\n",
       "MultinomialNB             0.682229\n",
       "RandomForestClassifier    0.382427\n",
       "Name: accuracy, dtype: float64"
      ]
     },
     "execution_count": 17,
     "metadata": {},
     "output_type": "execute_result"
    }
   ],
   "source": [
    "cv_df.groupby('model_name').accuracy.mean()"
   ]
  },
  {
   "cell_type": "code",
   "execution_count": 18,
   "metadata": {},
   "outputs": [],
   "source": [
    "from sklearn.model_selection import train_test_split\n",
    "\n",
    "model = LinearSVC()\n",
    "\n",
    "X_train, X_test, y_train, y_test, indices_train, indices_test = train_test_split(features, labels, df.index, test_size=0.33, random_state=0)\n",
    "model.fit(X_train, y_train)\n",
    "y_pred = model.predict(X_test)"
   ]
  },
  {
   "cell_type": "code",
   "execution_count": 19,
   "metadata": {},
   "outputs": [
    {
     "data": {
      "image/png": "[encoded data removed]",
      "text/plain": [
       "<Figure size 576x432 with 2 Axes>"
      ]
     },
     "metadata": {
      "needs_background": "light"
     },
     "output_type": "display_data"
    }
   ],
   "source": [
    "from sklearn.metrics import confusion_matrix\n",
    "\n",
    "conf_mat = confusion_matrix(y_test, y_pred)\n",
    "fig, ax = plt.subplots(figsize=(8,6))\n",
    "sns.heatmap(conf_mat, annot=True, fmt='d',\n",
    "            xticklabels=category_id_df.L1.values, yticklabels=category_id_df.L1.values)\n",
    "plt.ylabel('Actual')\n",
    "plt.xlabel('Predicted')\n",
    "plt.show()"
   ]
  },
  {
   "cell_type": "code",
   "execution_count": 20,
   "metadata": {},
   "outputs": [
    {
     "name": "stdout",
     "output_type": "stream",
     "text": [
      "              precision    recall  f1-score   support\n",
      "\n",
      "           0       0.77      0.68      0.73        60\n",
      "           1       0.78      0.67      0.72        88\n",
      "           2       0.58      0.62      0.60        64\n",
      "           3       0.81      0.90      0.85       459\n",
      "           4       0.64      0.62      0.63        76\n",
      "           5       0.38      0.26      0.31        35\n",
      "           6       0.73      0.77      0.75       124\n",
      "           7       0.82      0.82      0.82       176\n",
      "           8       0.29      0.07      0.12        27\n",
      "           9       0.61      0.59      0.60        61\n",
      "          10       0.40      0.33      0.36         6\n",
      "          11       0.50      0.37      0.42        19\n",
      "\n",
      "    accuracy                           0.75      1195\n",
      "   macro avg       0.61      0.56      0.58      1195\n",
      "weighted avg       0.74      0.75      0.74      1195\n",
      "\n"
     ]
    }
   ],
   "source": [
    "from sklearn.metrics import classification_report\n",
    "print(classification_report(y_test, y_pred))"
   ]
  },
  {
   "cell_type": "code",
   "execution_count": null,
   "metadata": {},
   "outputs": [],
   "source": []
  }
 ],
 "metadata": {
  "kernelspec": {
   "display_name": "Python 3",
   "language": "python",
   "name": "python3"
  },
  "language_info": {
   "codemirror_mode": {
    "name": "ipython",
    "version": 3
   },
   "file_extension": ".py",
   "mimetype": "text/x-python",
   "name": "python",
   "nbconvert_exporter": "python",
   "pygments_lexer": "ipython3",
   "version": "3.8.3"
  }
 },
 "nbformat": 4,
 "nbformat_minor": 4
}
